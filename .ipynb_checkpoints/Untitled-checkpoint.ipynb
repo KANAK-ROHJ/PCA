{
 "cells": [
  {
   "cell_type": "code",
   "execution_count": 42,
   "id": "d5bb0b8f-10e9-4028-9859-36c9325c1d6b",
   "metadata": {},
   "outputs": [],
   "source": [
    "import numpy as np\n",
    "import pandas as pd\n",
    "import matplotlib.pyplot as plt\n",
    "from tqdm import tqdm"
   ]
  },
  {
   "cell_type": "code",
   "execution_count": 10,
   "id": "c7233a76-9a78-407d-872a-52670a5e293e",
   "metadata": {},
   "outputs": [],
   "source": [
    "link='https://raw.githubusercontent.com/AshishJangra27/Machine-Learning-with-Python-GFG/main/Feature%20Engineering/PCA/global_heat_index.csv'\n",
    "data=pd.read_csv(link)"
   ]
  },
  {
   "cell_type": "code",
   "execution_count": 11,
   "id": "f7610207-bc53-4e68-a62e-2da66e6e5732",
   "metadata": {},
   "outputs": [
    {
     "data": {
      "text/html": [
       "<div>\n",
       "<style scoped>\n",
       "    .dataframe tbody tr th:only-of-type {\n",
       "        vertical-align: middle;\n",
       "    }\n",
       "\n",
       "    .dataframe tbody tr th {\n",
       "        vertical-align: top;\n",
       "    }\n",
       "\n",
       "    .dataframe thead th {\n",
       "        text-align: right;\n",
       "    }\n",
       "</style>\n",
       "<table border=\"1\" class=\"dataframe\">\n",
       "  <thead>\n",
       "    <tr style=\"text-align: right;\">\n",
       "      <th></th>\n",
       "      <th>Year</th>\n",
       "      <th>Month</th>\n",
       "      <th>Day</th>\n",
       "      <th>Hour</th>\n",
       "      <th>Dew Point</th>\n",
       "      <th>Temperature</th>\n",
       "      <th>Pressure</th>\n",
       "      <th>Relative Humidity</th>\n",
       "      <th>Wind Direction</th>\n",
       "      <th>Wind Speed</th>\n",
       "      <th>Solar Radiation (GHI)</th>\n",
       "    </tr>\n",
       "  </thead>\n",
       "  <tbody>\n",
       "    <tr>\n",
       "      <th>0</th>\n",
       "      <td>2011</td>\n",
       "      <td>1</td>\n",
       "      <td>1</td>\n",
       "      <td>0</td>\n",
       "      <td>8</td>\n",
       "      <td>13.522659</td>\n",
       "      <td>986.761841</td>\n",
       "      <td>72.295858</td>\n",
       "      <td>37.288387</td>\n",
       "      <td>3.011042</td>\n",
       "      <td>0</td>\n",
       "    </tr>\n",
       "    <tr>\n",
       "      <th>1</th>\n",
       "      <td>2011</td>\n",
       "      <td>1</td>\n",
       "      <td>1</td>\n",
       "      <td>1</td>\n",
       "      <td>8</td>\n",
       "      <td>12.835814</td>\n",
       "      <td>986.441406</td>\n",
       "      <td>75.376186</td>\n",
       "      <td>37.686718</td>\n",
       "      <td>3.091243</td>\n",
       "      <td>0</td>\n",
       "    </tr>\n",
       "    <tr>\n",
       "      <th>2</th>\n",
       "      <td>2011</td>\n",
       "      <td>1</td>\n",
       "      <td>1</td>\n",
       "      <td>2</td>\n",
       "      <td>8</td>\n",
       "      <td>12.198058</td>\n",
       "      <td>985.736511</td>\n",
       "      <td>78.405198</td>\n",
       "      <td>35.053905</td>\n",
       "      <td>3.007649</td>\n",
       "      <td>0</td>\n",
       "    </tr>\n",
       "    <tr>\n",
       "      <th>3</th>\n",
       "      <td>2011</td>\n",
       "      <td>1</td>\n",
       "      <td>1</td>\n",
       "      <td>3</td>\n",
       "      <td>8</td>\n",
       "      <td>11.583500</td>\n",
       "      <td>985.525696</td>\n",
       "      <td>81.042980</td>\n",
       "      <td>30.135216</td>\n",
       "      <td>2.926715</td>\n",
       "      <td>0</td>\n",
       "    </tr>\n",
       "    <tr>\n",
       "      <th>4</th>\n",
       "      <td>2011</td>\n",
       "      <td>1</td>\n",
       "      <td>1</td>\n",
       "      <td>4</td>\n",
       "      <td>8</td>\n",
       "      <td>11.029578</td>\n",
       "      <td>985.661926</td>\n",
       "      <td>82.548508</td>\n",
       "      <td>24.402969</td>\n",
       "      <td>2.915177</td>\n",
       "      <td>0</td>\n",
       "    </tr>\n",
       "  </tbody>\n",
       "</table>\n",
       "</div>"
      ],
      "text/plain": [
       "   Year  Month  Day  Hour  Dew Point  Temperature    Pressure  \\\n",
       "0  2011      1    1     0          8    13.522659  986.761841   \n",
       "1  2011      1    1     1          8    12.835814  986.441406   \n",
       "2  2011      1    1     2          8    12.198058  985.736511   \n",
       "3  2011      1    1     3          8    11.583500  985.525696   \n",
       "4  2011      1    1     4          8    11.029578  985.661926   \n",
       "\n",
       "   Relative Humidity  Wind Direction  Wind Speed  Solar Radiation (GHI)  \n",
       "0          72.295858       37.288387    3.011042                      0  \n",
       "1          75.376186       37.686718    3.091243                      0  \n",
       "2          78.405198       35.053905    3.007649                      0  \n",
       "3          81.042980       30.135216    2.926715                      0  \n",
       "4          82.548508       24.402969    2.915177                      0  "
      ]
     },
     "execution_count": 11,
     "metadata": {},
     "output_type": "execute_result"
    }
   ],
   "source": [
    "data.head()"
   ]
  },
  {
   "cell_type": "code",
   "execution_count": 12,
   "id": "30f9e447-3796-4a6b-a943-9f6a5b4820e5",
   "metadata": {},
   "outputs": [
    {
     "name": "stdout",
     "output_type": "stream",
     "text": [
      "<class 'pandas.core.frame.DataFrame'>\n",
      "RangeIndex: 17520 entries, 0 to 17519\n",
      "Data columns (total 11 columns):\n",
      " #   Column                 Non-Null Count  Dtype  \n",
      "---  ------                 --------------  -----  \n",
      " 0   Year                   17520 non-null  int64  \n",
      " 1   Month                  17520 non-null  int64  \n",
      " 2   Day                    17520 non-null  int64  \n",
      " 3   Hour                   17520 non-null  int64  \n",
      " 4   Dew Point              17520 non-null  int64  \n",
      " 5   Temperature            17520 non-null  float64\n",
      " 6   Pressure               17520 non-null  float64\n",
      " 7   Relative Humidity      17520 non-null  float64\n",
      " 8   Wind Direction         17520 non-null  float64\n",
      " 9   Wind Speed             17520 non-null  float64\n",
      " 10  Solar Radiation (GHI)  17520 non-null  int64  \n",
      "dtypes: float64(5), int64(6)\n",
      "memory usage: 1.5 MB\n"
     ]
    }
   ],
   "source": [
    "data.info()"
   ]
  },
  {
   "cell_type": "code",
   "execution_count": 13,
   "id": "4e62bb24-2cf8-46fa-a229-7fe6cb79cd6c",
   "metadata": {},
   "outputs": [
    {
     "data": {
      "text/html": [
       "<div>\n",
       "<style scoped>\n",
       "    .dataframe tbody tr th:only-of-type {\n",
       "        vertical-align: middle;\n",
       "    }\n",
       "\n",
       "    .dataframe tbody tr th {\n",
       "        vertical-align: top;\n",
       "    }\n",
       "\n",
       "    .dataframe thead th {\n",
       "        text-align: right;\n",
       "    }\n",
       "</style>\n",
       "<table border=\"1\" class=\"dataframe\">\n",
       "  <thead>\n",
       "    <tr style=\"text-align: right;\">\n",
       "      <th></th>\n",
       "      <th>Year</th>\n",
       "      <th>Month</th>\n",
       "      <th>Day</th>\n",
       "      <th>Hour</th>\n",
       "      <th>Dew Point</th>\n",
       "      <th>Temperature</th>\n",
       "      <th>Pressure</th>\n",
       "      <th>Relative Humidity</th>\n",
       "      <th>Wind Direction</th>\n",
       "      <th>Wind Speed</th>\n",
       "      <th>Solar Radiation (GHI)</th>\n",
       "    </tr>\n",
       "  </thead>\n",
       "  <tbody>\n",
       "    <tr>\n",
       "      <th>count</th>\n",
       "      <td>17520.000000</td>\n",
       "      <td>17520.000000</td>\n",
       "      <td>17520.000000</td>\n",
       "      <td>17520.000000</td>\n",
       "      <td>17520.000000</td>\n",
       "      <td>17520.000000</td>\n",
       "      <td>17520.000000</td>\n",
       "      <td>17520.000000</td>\n",
       "      <td>17520.000000</td>\n",
       "      <td>17520.000000</td>\n",
       "      <td>17520.000000</td>\n",
       "    </tr>\n",
       "    <tr>\n",
       "      <th>mean</th>\n",
       "      <td>2011.500000</td>\n",
       "      <td>6.526027</td>\n",
       "      <td>15.720548</td>\n",
       "      <td>11.500000</td>\n",
       "      <td>11.375171</td>\n",
       "      <td>26.953731</td>\n",
       "      <td>979.699263</td>\n",
       "      <td>47.635089</td>\n",
       "      <td>182.306160</td>\n",
       "      <td>2.637895</td>\n",
       "      <td>235.047945</td>\n",
       "    </tr>\n",
       "    <tr>\n",
       "      <th>std</th>\n",
       "      <td>0.500014</td>\n",
       "      <td>3.447950</td>\n",
       "      <td>8.796498</td>\n",
       "      <td>6.922384</td>\n",
       "      <td>10.850196</td>\n",
       "      <td>8.417945</td>\n",
       "      <td>6.130488</td>\n",
       "      <td>26.734818</td>\n",
       "      <td>98.695757</td>\n",
       "      <td>1.244842</td>\n",
       "      <td>312.916933</td>\n",
       "    </tr>\n",
       "    <tr>\n",
       "      <th>min</th>\n",
       "      <td>2011.000000</td>\n",
       "      <td>1.000000</td>\n",
       "      <td>1.000000</td>\n",
       "      <td>0.000000</td>\n",
       "      <td>-28.000000</td>\n",
       "      <td>5.063506</td>\n",
       "      <td>964.755859</td>\n",
       "      <td>0.921771</td>\n",
       "      <td>0.034660</td>\n",
       "      <td>0.030113</td>\n",
       "      <td>0.000000</td>\n",
       "    </tr>\n",
       "    <tr>\n",
       "      <th>25%</th>\n",
       "      <td>2011.000000</td>\n",
       "      <td>4.000000</td>\n",
       "      <td>8.000000</td>\n",
       "      <td>5.750000</td>\n",
       "      <td>3.000000</td>\n",
       "      <td>21.611058</td>\n",
       "      <td>974.325027</td>\n",
       "      <td>23.413340</td>\n",
       "      <td>84.141256</td>\n",
       "      <td>1.718903</td>\n",
       "      <td>0.000000</td>\n",
       "    </tr>\n",
       "    <tr>\n",
       "      <th>50%</th>\n",
       "      <td>2011.500000</td>\n",
       "      <td>7.000000</td>\n",
       "      <td>16.000000</td>\n",
       "      <td>11.500000</td>\n",
       "      <td>12.000000</td>\n",
       "      <td>27.455196</td>\n",
       "      <td>980.491516</td>\n",
       "      <td>46.529440</td>\n",
       "      <td>221.495407</td>\n",
       "      <td>2.564217</td>\n",
       "      <td>0.000000</td>\n",
       "    </tr>\n",
       "    <tr>\n",
       "      <th>75%</th>\n",
       "      <td>2012.000000</td>\n",
       "      <td>10.000000</td>\n",
       "      <td>23.000000</td>\n",
       "      <td>17.250000</td>\n",
       "      <td>22.000000</td>\n",
       "      <td>32.031030</td>\n",
       "      <td>984.943756</td>\n",
       "      <td>69.450031</td>\n",
       "      <td>250.299492</td>\n",
       "      <td>3.412514</td>\n",
       "      <td>489.250000</td>\n",
       "    </tr>\n",
       "    <tr>\n",
       "      <th>max</th>\n",
       "      <td>2012.000000</td>\n",
       "      <td>12.000000</td>\n",
       "      <td>31.000000</td>\n",
       "      <td>23.000000</td>\n",
       "      <td>27.000000</td>\n",
       "      <td>52.157927</td>\n",
       "      <td>993.353210</td>\n",
       "      <td>100.000000</td>\n",
       "      <td>359.989960</td>\n",
       "      <td>7.287084</td>\n",
       "      <td>1001.000000</td>\n",
       "    </tr>\n",
       "  </tbody>\n",
       "</table>\n",
       "</div>"
      ],
      "text/plain": [
       "               Year         Month           Day          Hour     Dew Point  \\\n",
       "count  17520.000000  17520.000000  17520.000000  17520.000000  17520.000000   \n",
       "mean    2011.500000      6.526027     15.720548     11.500000     11.375171   \n",
       "std        0.500014      3.447950      8.796498      6.922384     10.850196   \n",
       "min     2011.000000      1.000000      1.000000      0.000000    -28.000000   \n",
       "25%     2011.000000      4.000000      8.000000      5.750000      3.000000   \n",
       "50%     2011.500000      7.000000     16.000000     11.500000     12.000000   \n",
       "75%     2012.000000     10.000000     23.000000     17.250000     22.000000   \n",
       "max     2012.000000     12.000000     31.000000     23.000000     27.000000   \n",
       "\n",
       "        Temperature      Pressure  Relative Humidity  Wind Direction  \\\n",
       "count  17520.000000  17520.000000       17520.000000    17520.000000   \n",
       "mean      26.953731    979.699263          47.635089      182.306160   \n",
       "std        8.417945      6.130488          26.734818       98.695757   \n",
       "min        5.063506    964.755859           0.921771        0.034660   \n",
       "25%       21.611058    974.325027          23.413340       84.141256   \n",
       "50%       27.455196    980.491516          46.529440      221.495407   \n",
       "75%       32.031030    984.943756          69.450031      250.299492   \n",
       "max       52.157927    993.353210         100.000000      359.989960   \n",
       "\n",
       "         Wind Speed  Solar Radiation (GHI)  \n",
       "count  17520.000000           17520.000000  \n",
       "mean       2.637895             235.047945  \n",
       "std        1.244842             312.916933  \n",
       "min        0.030113               0.000000  \n",
       "25%        1.718903               0.000000  \n",
       "50%        2.564217               0.000000  \n",
       "75%        3.412514             489.250000  \n",
       "max        7.287084            1001.000000  "
      ]
     },
     "execution_count": 13,
     "metadata": {},
     "output_type": "execute_result"
    }
   ],
   "source": [
    "data.describe()"
   ]
  },
  {
   "cell_type": "markdown",
   "id": "61b8bfdd-57a7-49c8-b8b3-9fa0df1d49a7",
   "metadata": {},
   "source": [
    "### Cleaning Data"
   ]
  },
  {
   "cell_type": "code",
   "execution_count": 14,
   "id": "1451ddb6-d22a-413c-99ad-1b80ae441be1",
   "metadata": {},
   "outputs": [],
   "source": [
    "clean1=data[data['Hour']<6]\n",
    "clean2=data[data['Hour']>18]"
   ]
  },
  {
   "cell_type": "code",
   "execution_count": 15,
   "id": "59ee4c75-906d-4ff6-941c-c0da5ce9af55",
   "metadata": {},
   "outputs": [],
   "source": [
    "data.drop(clean1.index,axis=0,inplace=True)\n",
    "data.drop(clean2.index,axis=0,inplace=True)"
   ]
  },
  {
   "cell_type": "code",
   "execution_count": 16,
   "id": "d1b0f205-98bb-46bd-a8d5-9d6b1a4fc3b8",
   "metadata": {},
   "outputs": [
    {
     "data": {
      "text/html": [
       "<div>\n",
       "<style scoped>\n",
       "    .dataframe tbody tr th:only-of-type {\n",
       "        vertical-align: middle;\n",
       "    }\n",
       "\n",
       "    .dataframe tbody tr th {\n",
       "        vertical-align: top;\n",
       "    }\n",
       "\n",
       "    .dataframe thead th {\n",
       "        text-align: right;\n",
       "    }\n",
       "</style>\n",
       "<table border=\"1\" class=\"dataframe\">\n",
       "  <thead>\n",
       "    <tr style=\"text-align: right;\">\n",
       "      <th></th>\n",
       "      <th>Year</th>\n",
       "      <th>Month</th>\n",
       "      <th>Day</th>\n",
       "      <th>Hour</th>\n",
       "      <th>Dew Point</th>\n",
       "      <th>Temperature</th>\n",
       "      <th>Pressure</th>\n",
       "      <th>Relative Humidity</th>\n",
       "      <th>Wind Direction</th>\n",
       "      <th>Wind Speed</th>\n",
       "      <th>Solar Radiation (GHI)</th>\n",
       "    </tr>\n",
       "  </thead>\n",
       "  <tbody>\n",
       "    <tr>\n",
       "      <th>count</th>\n",
       "      <td>9490.000000</td>\n",
       "      <td>9490.000000</td>\n",
       "      <td>9490.000000</td>\n",
       "      <td>9490.000000</td>\n",
       "      <td>9490.000000</td>\n",
       "      <td>9490.000000</td>\n",
       "      <td>9490.000000</td>\n",
       "      <td>9490.000000</td>\n",
       "      <td>9490.000000</td>\n",
       "      <td>9490.000000</td>\n",
       "      <td>9490.000000</td>\n",
       "    </tr>\n",
       "    <tr>\n",
       "      <th>mean</th>\n",
       "      <td>2011.500000</td>\n",
       "      <td>6.526027</td>\n",
       "      <td>15.720548</td>\n",
       "      <td>12.000000</td>\n",
       "      <td>11.172603</td>\n",
       "      <td>29.843403</td>\n",
       "      <td>979.837013</td>\n",
       "      <td>41.346867</td>\n",
       "      <td>192.621930</td>\n",
       "      <td>2.404642</td>\n",
       "      <td>433.934668</td>\n",
       "    </tr>\n",
       "    <tr>\n",
       "      <th>std</th>\n",
       "      <td>0.500026</td>\n",
       "      <td>3.448033</td>\n",
       "      <td>8.796710</td>\n",
       "      <td>3.741855</td>\n",
       "      <td>11.204963</td>\n",
       "      <td>8.272602</td>\n",
       "      <td>6.183468</td>\n",
       "      <td>25.653292</td>\n",
       "      <td>98.401266</td>\n",
       "      <td>1.241931</td>\n",
       "      <td>307.352650</td>\n",
       "    </tr>\n",
       "    <tr>\n",
       "      <th>min</th>\n",
       "      <td>2011.000000</td>\n",
       "      <td>1.000000</td>\n",
       "      <td>1.000000</td>\n",
       "      <td>6.000000</td>\n",
       "      <td>-28.000000</td>\n",
       "      <td>5.063506</td>\n",
       "      <td>964.755859</td>\n",
       "      <td>0.921771</td>\n",
       "      <td>0.034660</td>\n",
       "      <td>0.030113</td>\n",
       "      <td>0.000000</td>\n",
       "    </tr>\n",
       "    <tr>\n",
       "      <th>25%</th>\n",
       "      <td>2011.000000</td>\n",
       "      <td>4.000000</td>\n",
       "      <td>8.000000</td>\n",
       "      <td>9.000000</td>\n",
       "      <td>2.000000</td>\n",
       "      <td>24.991642</td>\n",
       "      <td>974.409988</td>\n",
       "      <td>18.638580</td>\n",
       "      <td>98.280884</td>\n",
       "      <td>1.488960</td>\n",
       "      <td>148.000000</td>\n",
       "    </tr>\n",
       "    <tr>\n",
       "      <th>50%</th>\n",
       "      <td>2011.500000</td>\n",
       "      <td>7.000000</td>\n",
       "      <td>16.000000</td>\n",
       "      <td>12.000000</td>\n",
       "      <td>11.000000</td>\n",
       "      <td>30.117739</td>\n",
       "      <td>980.606934</td>\n",
       "      <td>39.359365</td>\n",
       "      <td>230.102280</td>\n",
       "      <td>2.246798</td>\n",
       "      <td>446.000000</td>\n",
       "    </tr>\n",
       "    <tr>\n",
       "      <th>75%</th>\n",
       "      <td>2012.000000</td>\n",
       "      <td>10.000000</td>\n",
       "      <td>23.000000</td>\n",
       "      <td>15.000000</td>\n",
       "      <td>22.000000</td>\n",
       "      <td>34.920360</td>\n",
       "      <td>985.049332</td>\n",
       "      <td>61.814032</td>\n",
       "      <td>258.325935</td>\n",
       "      <td>3.153406</td>\n",
       "      <td>693.000000</td>\n",
       "    </tr>\n",
       "    <tr>\n",
       "      <th>max</th>\n",
       "      <td>2012.000000</td>\n",
       "      <td>12.000000</td>\n",
       "      <td>31.000000</td>\n",
       "      <td>18.000000</td>\n",
       "      <td>27.000000</td>\n",
       "      <td>52.157927</td>\n",
       "      <td>993.353210</td>\n",
       "      <td>100.000000</td>\n",
       "      <td>359.821167</td>\n",
       "      <td>7.287084</td>\n",
       "      <td>1001.000000</td>\n",
       "    </tr>\n",
       "  </tbody>\n",
       "</table>\n",
       "</div>"
      ],
      "text/plain": [
       "              Year        Month          Day         Hour    Dew Point  \\\n",
       "count  9490.000000  9490.000000  9490.000000  9490.000000  9490.000000   \n",
       "mean   2011.500000     6.526027    15.720548    12.000000    11.172603   \n",
       "std       0.500026     3.448033     8.796710     3.741855    11.204963   \n",
       "min    2011.000000     1.000000     1.000000     6.000000   -28.000000   \n",
       "25%    2011.000000     4.000000     8.000000     9.000000     2.000000   \n",
       "50%    2011.500000     7.000000    16.000000    12.000000    11.000000   \n",
       "75%    2012.000000    10.000000    23.000000    15.000000    22.000000   \n",
       "max    2012.000000    12.000000    31.000000    18.000000    27.000000   \n",
       "\n",
       "       Temperature     Pressure  Relative Humidity  Wind Direction  \\\n",
       "count  9490.000000  9490.000000        9490.000000     9490.000000   \n",
       "mean     29.843403   979.837013          41.346867      192.621930   \n",
       "std       8.272602     6.183468          25.653292       98.401266   \n",
       "min       5.063506   964.755859           0.921771        0.034660   \n",
       "25%      24.991642   974.409988          18.638580       98.280884   \n",
       "50%      30.117739   980.606934          39.359365      230.102280   \n",
       "75%      34.920360   985.049332          61.814032      258.325935   \n",
       "max      52.157927   993.353210         100.000000      359.821167   \n",
       "\n",
       "        Wind Speed  Solar Radiation (GHI)  \n",
       "count  9490.000000            9490.000000  \n",
       "mean      2.404642             433.934668  \n",
       "std       1.241931             307.352650  \n",
       "min       0.030113               0.000000  \n",
       "25%       1.488960             148.000000  \n",
       "50%       2.246798             446.000000  \n",
       "75%       3.153406             693.000000  \n",
       "max       7.287084            1001.000000  "
      ]
     },
     "execution_count": 16,
     "metadata": {},
     "output_type": "execute_result"
    }
   ],
   "source": [
    "data.describe()"
   ]
  },
  {
   "cell_type": "markdown",
   "id": "d0a95eb3-80d6-44ed-841d-bf17606e8b8e",
   "metadata": {},
   "source": [
    "### Preparing Training and Testing Data"
   ]
  },
  {
   "cell_type": "code",
   "execution_count": 26,
   "id": "4e86b4fe-bd0d-4934-bf45-a214207fd340",
   "metadata": {},
   "outputs": [],
   "source": [
    "x=data.iloc[:,4:10].values\n",
    "y=data.iloc[:,10].values\n",
    "y=y.reshape(-1,1)\n",
    "from sklearn.model_selection import train_test_split\n",
    "xtrain,xtest,ytrain,ytest=train_test_split(x,y,test_size=0.2, random_state=0)"
   ]
  },
  {
   "cell_type": "code",
   "execution_count": 27,
   "id": "026751b3-9a62-4cbe-927a-44a5d3a81c29",
   "metadata": {},
   "outputs": [
    {
     "name": "stdout",
     "output_type": "stream",
     "text": [
      "[[178]\n",
      " [602]\n",
      " [830]\n",
      " ...\n",
      " [231]\n",
      " [162]\n",
      " [384]]\n"
     ]
    }
   ],
   "source": [
    "print(ytrain)"
   ]
  },
  {
   "cell_type": "markdown",
   "id": "82aed31d-7655-4290-9d27-7b5cd0f1e2af",
   "metadata": {},
   "source": [
    "### Standardizing Data\n"
   ]
  },
  {
   "cell_type": "code",
   "execution_count": 28,
   "id": "2d405fcf-6456-4a9b-ad4b-e163e03af9d4",
   "metadata": {},
   "outputs": [],
   "source": [
    "from sklearn.preprocessing import StandardScaler\n",
    "sc_X=StandardScaler()\n",
    "xtrain=sc_X.fit_transform(xtrain)\n",
    "xtest=sc_X.fit_transform(xtest)\n",
    "sc_y=StandardScaler()\n",
    "ytrain=sc_y.fit_transform(ytrain)\n",
    "ytest=sc_y.fit_transform(ytest)"
   ]
  },
  {
   "cell_type": "markdown",
   "id": "adafd27c-c3c1-4d12-a0e9-ee362d846e9a",
   "metadata": {},
   "source": [
    "## KMeans with 6 cluster"
   ]
  },
  {
   "cell_type": "code",
   "execution_count": 30,
   "id": "1b9b2dde-6c78-40d8-93c6-6a9f91373073",
   "metadata": {},
   "outputs": [
    {
     "name": "stderr",
     "output_type": "stream",
     "text": [
      "C:\\Users\\kanak\\anaconda3\\Lib\\site-packages\\sklearn\\cluster\\_kmeans.py:870: FutureWarning: The default value of `n_init` will change from 10 to 'auto' in 1.4. Set the value of `n_init` explicitly to suppress the warning\n",
      "  warnings.warn(\n"
     ]
    }
   ],
   "source": [
    "from sklearn.cluster import KMeans\n",
    "kmeans=KMeans(n_clusters=6,random_state=0)\n",
    "kmeans=kmeans.fit(xtrain)"
   ]
  },
  {
   "cell_type": "code",
   "execution_count": 31,
   "id": "421ad544-1582-4e73-8bb3-99a217661c0a",
   "metadata": {},
   "outputs": [],
   "source": [
    "labels=kmeans.labels_\n",
    "cluster_centers=kmeans.cluster_centers_"
   ]
  },
  {
   "cell_type": "code",
   "execution_count": 32,
   "id": "79d56186-156c-43c3-af79-7887f5c85f12",
   "metadata": {},
   "outputs": [
    {
     "data": {
      "text/plain": [
       "array([4, 2, 3, ..., 5, 4, 4])"
      ]
     },
     "execution_count": 32,
     "metadata": {},
     "output_type": "execute_result"
    }
   ],
   "source": [
    "labels"
   ]
  },
  {
   "cell_type": "code",
   "execution_count": 33,
   "id": "bbd613ae-f446-418e-9d0f-e884996d2154",
   "metadata": {},
   "outputs": [
    {
     "data": {
      "text/plain": [
       "array([[ 0.16514599, -0.37183722,  0.64944113,  0.20694672,  0.67454948,\n",
       "        -0.79919315],\n",
       "       [ 0.4028263 ,  1.05270045, -1.07625442, -0.40782607,  0.51052584,\n",
       "         1.49341357],\n",
       "       [-0.62922428, -0.2382606 ,  0.85747373, -0.5826973 , -1.35137904,\n",
       "        -0.68896787],\n",
       "       [-1.06742046,  0.68333301,  0.04957812, -1.16310858,  0.83404147,\n",
       "         0.01356953],\n",
       "       [ 1.18774524,  0.07107491, -0.93458801,  1.27392977,  0.25329346,\n",
       "        -0.09429523],\n",
       "       [-0.63825654, -1.64715456,  1.1805509 ,  0.27677496, -1.09069466,\n",
       "        -0.03323327]])"
      ]
     },
     "execution_count": 33,
     "metadata": {},
     "output_type": "execute_result"
    }
   ],
   "source": [
    "cluster_centers"
   ]
  },
  {
   "cell_type": "markdown",
   "id": "c62bbc54-6e34-475b-90f3-eb93ac65289e",
   "metadata": {},
   "source": [
    "### Applying PCA-- Dimensionality Reduction"
   ]
  },
  {
   "cell_type": "code",
   "execution_count": 34,
   "id": "e1060b0e-e908-465d-92dc-8f4ca3e9007b",
   "metadata": {},
   "outputs": [],
   "source": [
    "from sklearn.decomposition import PCA\n",
    "pca=PCA(n_components=2).fit(xtrain).transform(xtrain)"
   ]
  },
  {
   "cell_type": "code",
   "execution_count": 35,
   "id": "9e1088bd-eafc-4c64-bf60-147a213c5534",
   "metadata": {},
   "outputs": [
    {
     "data": {
      "text/plain": [
       "array([[-1.59837425, -1.04649685],\n",
       "       [ 1.2422458 ,  0.2751212 ],\n",
       "       [-0.79398024,  2.07624203],\n",
       "       ...,\n",
       "       [ 2.88500539, -0.70662158],\n",
       "       [-1.31961631, -2.03068811],\n",
       "       [-1.55187659, -1.6325982 ]])"
      ]
     },
     "execution_count": 35,
     "metadata": {},
     "output_type": "execute_result"
    }
   ],
   "source": [
    "pca"
   ]
  },
  {
   "cell_type": "code",
   "execution_count": 37,
   "id": "251ad7a4-99ce-4986-9fb8-28ec57ab3069",
   "metadata": {},
   "outputs": [
    {
     "data": {
      "text/plain": [
       "(7592, 7592)"
      ]
     },
     "execution_count": 37,
     "metadata": {},
     "output_type": "execute_result"
    }
   ],
   "source": [
    "len(labels),pca.shape[0]"
   ]
  },
  {
   "cell_type": "markdown",
   "id": "61ff96e5-ba9d-4e15-969e-25af26c3f023",
   "metadata": {},
   "source": [
    "## Visualisation"
   ]
  },
  {
   "cell_type": "code",
   "execution_count": 43,
   "id": "15123806-5931-4ca2-8dd3-e35aeac5dd4f",
   "metadata": {},
   "outputs": [
    {
     "name": "stderr",
     "output_type": "stream",
     "text": [
      "100%|██████████| 7592/7592 [01:59<00:00, 63.80it/s] \n"
     ]
    },
    {
     "data": {
      "image/png": "[encoded data removed]",
      "text/plain": [
       "<Figure size 640x480 with 1 Axes>"
      ]
     },
     "metadata": {},
     "output_type": "display_data"
    }
   ],
   "source": [
    "for i in tqdm(range(0,pca.shape[0])):\n",
    "    if labels[i]==0:\n",
    "        c1_6=plt.scatter(pca[i,0],pca[i,1],c=\"orange\")\n",
    "    if labels[i]==1:\n",
    "        c2_6=plt.scatter(pca[i,0],pca[i,1],c=\"g\")\n",
    "    if labels[i]==2:\n",
    "        c3_6=plt.scatter(pca[i,0],pca[i,1],c=\"b\")\n",
    "    if labels[i]==3:\n",
    "        c4_6=plt.scatter(pca[i,0],pca[i,1],c=\"yellow\")\n",
    "    if labels[i]==4:\n",
    "        c5_6=plt.scatter(pca[i,0],pca[i,1],c=\"cyan\")\n",
    "    if labels[i]==5:\n",
    "        c6_6=plt.scatter(pca[i,0],pca[i,1],c=\"red\")"
   ]
  },
  {
   "cell_type": "code",
   "execution_count": 44,
   "id": "616fd04c-c09d-4083-8cfa-98c5fa313d39",
   "metadata": {},
   "outputs": [],
   "source": []
  },
  {
   "cell_type": "code",
   "execution_count": null,
   "id": "8aa2c3e1-3fe8-427c-ab68-5ca9770c14b8",
   "metadata": {},
   "outputs": [],
   "source": []
  }
 ],
 "metadata": {
  "kernelspec": {
   "display_name": "Python 3 (ipykernel)",
   "language": "python",
   "name": "python3"
  },
  "language_info": {
   "codemirror_mode": {
    "name": "ipython",
    "version": 3
   },
   "file_extension": ".py",
   "mimetype": "text/x-python",
   "name": "python",
   "nbconvert_exporter": "python",
   "pygments_lexer": "ipython3",
   "version": "3.11.7"
  }
 },
 "nbformat": 4,
 "nbformat_minor": 5
}
